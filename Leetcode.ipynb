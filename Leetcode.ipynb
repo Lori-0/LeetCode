{
  "nbformat": 4,
  "nbformat_minor": 0,
  "metadata": {
    "colab": {
      "provenance": []
    },
    "kernelspec": {
      "name": "python3",
      "display_name": "Python 3"
    },
    "language_info": {
      "name": "python"
    }
  },
  "cells": [
    {
      "cell_type": "markdown",
      "source": [
        "# Leetcode\n"
      ],
      "metadata": {
        "id": "Nr8HKVLYsFlL"
      }
    },
    {
      "cell_type": "markdown",
      "source": [
        "# 1.Two Sum\n"
      ],
      "metadata": {
        "id": "Q7XZfUchsLqr"
      }
    },
    {
      "cell_type": "code",
      "execution_count": 2,
      "metadata": {
        "colab": {
          "base_uri": "https://localhost:8080/",
          "height": 105
        },
        "id": "tRibukxmrmBR",
        "outputId": "ff493f33-f2cd-4502-e35a-dc4e74e34dc9"
      },
      "outputs": [
        {
          "output_type": "error",
          "ename": "IndentationError",
          "evalue": "unindent does not match any outer indentation level (<tokenize>, line 7)",
          "traceback": [
            "\u001b[0;36m  File \u001b[0;32m\"<tokenize>\"\u001b[0;36m, line \u001b[0;32m7\u001b[0m\n\u001b[0;31m    return []\u001b[0m\n\u001b[0m    ^\u001b[0m\n\u001b[0;31mIndentationError\u001b[0m\u001b[0;31m:\u001b[0m unindent does not match any outer indentation level\n"
          ]
        }
      ],
      "source": [
        "class Solution:\n",
        "    def twoSum(self, nums: List[int], target: int) -> List[int]:\n",
        "        for i in range(len(nums)-1):\n",
        "            for j in range(i+1, len(nums)):\n",
        "                if nums[i] + nums[ j] == target:\n",
        "                    return [i, j]\n",
        "     return []"
      ]
    },
    {
      "cell_type": "markdown",
      "source": [],
      "metadata": {
        "id": "E-M3wufdxibV"
      }
    }
  ]
}